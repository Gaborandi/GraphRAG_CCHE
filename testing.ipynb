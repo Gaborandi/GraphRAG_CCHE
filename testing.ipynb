{
 "cells": [
  {
   "cell_type": "code",
   "execution_count": 1,
   "id": "5a656dc0-90a9-4f2a-87ae-7f49120c50aa",
   "metadata": {
    "collapsed": true,
    "jupyter": {
     "outputs_hidden": true
    }
   },
   "outputs": [
    {
     "name": "stdout",
     "output_type": "stream",
     "text": [
      "Requirement already satisfied: networkx>=2.8.4 in /Users/ahmedalmeldin/opt/anaconda3/lib/python3.10/site-packages (from -r requirements.txt (line 1)) (3.3)\n",
      "Requirement already satisfied: scikit-learn>=1.0.2 in /Users/ahmedalmeldin/opt/anaconda3/lib/python3.10/site-packages (from -r requirements.txt (line 2)) (1.2.2)\n",
      "Requirement already satisfied: numpy>=1.21.0 in /Users/ahmedalmeldin/opt/anaconda3/lib/python3.10/site-packages (from -r requirements.txt (line 3)) (1.23.5)\n",
      "Requirement already satisfied: torch>=1.9.0 in /Users/ahmedalmeldin/opt/anaconda3/lib/python3.10/site-packages (from -r requirements.txt (line 4)) (2.2.2)\n",
      "Requirement already satisfied: transformers>=4.11.0 in /Users/ahmedalmeldin/opt/anaconda3/lib/python3.10/site-packages (from -r requirements.txt (line 5)) (4.46.2)\n",
      "Requirement already satisfied: psutil>=5.8.0 in /Users/ahmedalmeldin/opt/anaconda3/lib/python3.10/site-packages (from -r requirements.txt (line 6)) (5.9.0)\n",
      "Requirement already satisfied: scipy>=1.3.2 in /Users/ahmedalmeldin/opt/anaconda3/lib/python3.10/site-packages (from scikit-learn>=1.0.2->-r requirements.txt (line 2)) (1.10.1)\n",
      "Requirement already satisfied: joblib>=1.1.1 in /Users/ahmedalmeldin/opt/anaconda3/lib/python3.10/site-packages (from scikit-learn>=1.0.2->-r requirements.txt (line 2)) (1.4.2)\n",
      "Requirement already satisfied: threadpoolctl>=2.0.0 in /Users/ahmedalmeldin/opt/anaconda3/lib/python3.10/site-packages (from scikit-learn>=1.0.2->-r requirements.txt (line 2)) (3.5.0)\n",
      "Requirement already satisfied: filelock in /Users/ahmedalmeldin/opt/anaconda3/lib/python3.10/site-packages (from torch>=1.9.0->-r requirements.txt (line 4)) (3.13.1)\n",
      "Requirement already satisfied: typing-extensions>=4.8.0 in /Users/ahmedalmeldin/opt/anaconda3/lib/python3.10/site-packages (from torch>=1.9.0->-r requirements.txt (line 4)) (4.12.2)\n",
      "Requirement already satisfied: sympy in /Users/ahmedalmeldin/opt/anaconda3/lib/python3.10/site-packages (from torch>=1.9.0->-r requirements.txt (line 4)) (1.13.1)\n",
      "Requirement already satisfied: jinja2 in /Users/ahmedalmeldin/opt/anaconda3/lib/python3.10/site-packages (from torch>=1.9.0->-r requirements.txt (line 4)) (3.1.4)\n",
      "Requirement already satisfied: fsspec in /Users/ahmedalmeldin/opt/anaconda3/lib/python3.10/site-packages (from torch>=1.9.0->-r requirements.txt (line 4)) (2024.6.1)\n",
      "Requirement already satisfied: huggingface-hub<1.0,>=0.23.2 in /Users/ahmedalmeldin/opt/anaconda3/lib/python3.10/site-packages (from transformers>=4.11.0->-r requirements.txt (line 5)) (0.26.5)\n",
      "Requirement already satisfied: packaging>=20.0 in /Users/ahmedalmeldin/opt/anaconda3/lib/python3.10/site-packages (from transformers>=4.11.0->-r requirements.txt (line 5)) (24.1)\n",
      "Requirement already satisfied: pyyaml>=5.1 in /Users/ahmedalmeldin/opt/anaconda3/lib/python3.10/site-packages (from transformers>=4.11.0->-r requirements.txt (line 5)) (6.0.2)\n",
      "Requirement already satisfied: regex!=2019.12.17 in /Users/ahmedalmeldin/opt/anaconda3/lib/python3.10/site-packages (from transformers>=4.11.0->-r requirements.txt (line 5)) (2024.11.6)\n",
      "Requirement already satisfied: requests in /Users/ahmedalmeldin/opt/anaconda3/lib/python3.10/site-packages (from transformers>=4.11.0->-r requirements.txt (line 5)) (2.32.3)\n",
      "Requirement already satisfied: safetensors>=0.4.1 in /Users/ahmedalmeldin/opt/anaconda3/lib/python3.10/site-packages (from transformers>=4.11.0->-r requirements.txt (line 5)) (0.4.5)\n",
      "Requirement already satisfied: tokenizers<0.21,>=0.20 in /Users/ahmedalmeldin/opt/anaconda3/lib/python3.10/site-packages (from transformers>=4.11.0->-r requirements.txt (line 5)) (0.20.3)\n",
      "Requirement already satisfied: tqdm>=4.27 in /Users/ahmedalmeldin/opt/anaconda3/lib/python3.10/site-packages (from transformers>=4.11.0->-r requirements.txt (line 5)) (4.66.5)\n",
      "Requirement already satisfied: MarkupSafe>=2.0 in /Users/ahmedalmeldin/opt/anaconda3/lib/python3.10/site-packages (from jinja2->torch>=1.9.0->-r requirements.txt (line 4)) (2.1.3)\n",
      "Requirement already satisfied: charset-normalizer<4,>=2 in /Users/ahmedalmeldin/opt/anaconda3/lib/python3.10/site-packages (from requests->transformers>=4.11.0->-r requirements.txt (line 5)) (2.0.4)\n",
      "Requirement already satisfied: idna<4,>=2.5 in /Users/ahmedalmeldin/opt/anaconda3/lib/python3.10/site-packages (from requests->transformers>=4.11.0->-r requirements.txt (line 5)) (2.10)\n",
      "Requirement already satisfied: urllib3<3,>=1.21.1 in /Users/ahmedalmeldin/opt/anaconda3/lib/python3.10/site-packages (from requests->transformers>=4.11.0->-r requirements.txt (line 5)) (2.2.3)\n",
      "Requirement already satisfied: certifi>=2017.4.17 in /Users/ahmedalmeldin/opt/anaconda3/lib/python3.10/site-packages (from requests->transformers>=4.11.0->-r requirements.txt (line 5)) (2024.8.30)\n",
      "Requirement already satisfied: mpmath<1.4,>=1.1.0 in /Users/ahmedalmeldin/opt/anaconda3/lib/python3.10/site-packages (from sympy->torch>=1.9.0->-r requirements.txt (line 4)) (1.3.0)\n"
     ]
    }
   ],
   "source": [
    "!pip install --no-cache-dir -r requirements.txt"
   ]
  },
  {
   "cell_type": "code",
   "execution_count": 2,
   "id": "778e1334-2137-4672-9eb7-5e9cd7b1b2a0",
   "metadata": {},
   "outputs": [
    {
     "name": "stdout",
     "output_type": "stream",
     "text": [
      "Model Name: meta-llama/Llama-3.2-1B\n"
     ]
    }
   ],
   "source": [
    "from config import Config\n",
    "cfg = Config(\"config.yaml\")\n",
    "print(\"Model Name:\", cfg.model_name)"
   ]
  },
  {
   "cell_type": "code",
   "execution_count": 1,
   "id": "11a27d86-9abd-47a3-bdff-a867c19685eb",
   "metadata": {},
   "outputs": [
    {
     "name": "stdout",
     "output_type": "stream",
     "text": [
      "{'total_files': 1, 'processed_files': 0, 'errors': [\"Error processing input_data/2406.14283v4.pdf: name 'PDFProcessor' is not defined\"]}\n"
     ]
    }
   ],
   "source": [
    "from config import Config\n",
    "from orchestration.pipeline import PipelineManager\n",
    "\n",
    "cfg = Config(\"config.yaml\")\n",
    "pipeline_manager = PipelineManager(cfg)\n",
    "results = pipeline_manager.process_directory(\"input_data\", \"*.pdf,*.docx,*.csv\")\n",
    "print(results)"
   ]
  },
  {
   "cell_type": "code",
   "execution_count": null,
   "id": "f008cf39-a33e-4e12-8de2-939aec93879d",
   "metadata": {},
   "outputs": [],
   "source": []
  }
 ],
 "metadata": {
  "kernelspec": {
   "display_name": "Python 3 (ipykernel)",
   "language": "python",
   "name": "python3"
  },
  "language_info": {
   "codemirror_mode": {
    "name": "ipython",
    "version": 3
   },
   "file_extension": ".py",
   "mimetype": "text/x-python",
   "name": "python",
   "nbconvert_exporter": "python",
   "pygments_lexer": "ipython3",
   "version": "3.10.15"
  }
 },
 "nbformat": 4,
 "nbformat_minor": 5
}
